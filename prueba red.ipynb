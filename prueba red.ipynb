{
 "cells": [
  {
   "cell_type": "code",
   "execution_count": 134,
   "id": "ce0ca2e2",
   "metadata": {},
   "outputs": [],
   "source": [
    "import numpy as np\n",
    "import sklearn\n",
    "from sklearn import datasets\n",
    "import matplotlib as plt\n",
    "import matplotlib.pyplot as plt\n",
    "import math\n",
    "from sklearn.decomposition import PCA\n",
    "import seaborn as sns\n",
    "import plotly.graph_objects as go\n",
    "import pandas as pd\n",
    "from sklearn.model_selection import train_test_split\n",
    "from keras.utils.np_utils import to_categorical\n",
    "from tensorflow import keras\n",
    "from tensorflow.keras import layers"
   ]
  },
  {
   "cell_type": "code",
   "execution_count": 116,
   "id": "5e5bf470",
   "metadata": {},
   "outputs": [],
   "source": [
    "def medidorDistEntr(X,y,adi,n_base):\n",
    "    #---------1-----------#\n",
    "    X1,X_test,y1,y_test = train_test_split(X, y,stratify=y,test_size=0.2,random_state=42,shuffle=True)\n",
    "    #--------2------------#\n",
    "    # Para calcular el porcentaje\n",
    "    numClass= len(np.unique(y1)) #saber cuantas clases diferentes hay\n",
    "    numTotal = X1.shape[0]\n",
    "    porc = ((n_base*numClass*100)/numTotal)/100\n",
    "    X_Pool,X_Base,y_Pool,y_Base = train_test_split(X1, y1,stratify=y1,test_size=porc,random_state=42,shuffle=True)\n",
    "    #-------3------------#\n",
    "    centros=[]\n",
    "    val, cont = np.unique(y_Base,return_counts=True)\n",
    "    for i in val:\n",
    "        ind_i=np.where(y_Base==i)\n",
    "        suma = sum(X_Base[ind_i])\n",
    "        centro=suma/cont[i]\n",
    "        centros.append(centro)\n",
    "    #-------4-------------#\n",
    "    entropies = [entropy(softmax(listEuclidean(x,centros))) for x in X_Pool]\n",
    "    #-------5------------#\n",
    "    entroMaxs = sorted(entropies,reverse=True)[:adi]\n",
    "    in_add=[]\n",
    "    for en in entroMaxs:\n",
    "        in_add.append(np.where(np.array(entropies) == en)[0][0]) #Para calcular los índices con mayor entropía\n",
    "        \n",
    "    X_adicionantes=X_Pool[in_add]\n",
    "    y_adicionantes=y_Pool[in_add]\n",
    "    #-----Finalmente añadimos al subconjunto base-----#\n",
    "    X_res = np.append(X_Base,X_adicionantes,axis=0)\n",
    "    y_res = np.append(y_Base,y_adicionantes)\n",
    "    \n",
    "    return X_res, y_res"
   ]
  },
  {
   "cell_type": "code",
   "execution_count": 120,
   "id": "182369ae",
   "metadata": {},
   "outputs": [],
   "source": [
    "def listEuclidean (p1,cen):\n",
    "    return [euclidean(p1,c) for c in cen]\n",
    "\n",
    "def euclidean (p1,p2):\n",
    "    res_e = (p2-p1)**2\n",
    "    suma = sum(res_e)\n",
    "    return math.sqrt(suma)\n",
    "\n",
    "def softmax(distances):\n",
    "    expon = np.exp(distances)\n",
    "    suma = np.sum(expon)\n",
    "    return expon/suma\n",
    "    \n",
    "def entropy(softProb):\n",
    "    op = softProb*(np.log2(softProb))\n",
    "    return -1*(np.sum(op))"
   ]
  },
  {
   "cell_type": "code",
   "execution_count": 283,
   "id": "a7caea76",
   "metadata": {},
   "outputs": [
    {
     "name": "stdout",
     "output_type": "stream",
     "text": [
      "fashion-mnist\\fashion-mnist_test.csv\n",
      "fashion-mnist\\fashion-mnist_train.csv\n",
      "fashion-mnist\\t10k-images-idx3-ubyte\n",
      "fashion-mnist\\t10k-labels-idx1-ubyte\n",
      "fashion-mnist\\train-images-idx3-ubyte\n",
      "fashion-mnist\\train-labels-idx1-ubyte\n"
     ]
    }
   ],
   "source": [
    "import os\n",
    "for dirname, _, filenames in os.walk('fashion-mnist'):\n",
    "    for filename in filenames:\n",
    "        print(os.path.join(dirname, filename))\n",
    "        \n",
    "train = pd.read_csv('fashion-mnist/fashion-mnist_train.csv')\n",
    "test = pd.read_csv('fashion-mnist/fashion-mnist_test.csv')\n",
    "\n",
    "df_train = train.copy()\n",
    "df_test = test.copy()\n",
    "\n",
    "X_train = df_train.drop(['label'],axis = 1)\n",
    "y_train = df_train['label']\n",
    "\n",
    "X_test = df_test.drop(['label'],axis = 1)\n",
    "y_test = df_test['label']\n",
    "\n",
    "X_train = X_train.astype('float32')\n",
    "X_test = X_test.astype('float32')\n",
    "X_train /= 255.0\n",
    "X_test /=255.0"
   ]
  },
  {
   "cell_type": "code",
   "execution_count": 284,
   "id": "7740fa41",
   "metadata": {},
   "outputs": [],
   "source": [
    "X_train=np.array(X_train)\n",
    "y_train=np.array(y_train)\n",
    "\n",
    "X_test = np.array(X_test)\n",
    "y_test = np.array(y_test)"
   ]
  },
  {
   "cell_type": "code",
   "execution_count": 285,
   "id": "924439d0",
   "metadata": {},
   "outputs": [],
   "source": [
    "X_res,y_res = medidorDistEntr(X_train,y_train,1000,500)"
   ]
  },
  {
   "cell_type": "code",
   "execution_count": 187,
   "id": "6e61d550",
   "metadata": {},
   "outputs": [
    {
     "data": {
      "text/plain": [
       "(60000,)"
      ]
     },
     "execution_count": 187,
     "metadata": {},
     "output_type": "execute_result"
    }
   ],
   "source": []
  },
  {
   "cell_type": "code",
   "execution_count": 286,
   "id": "be53bf5b",
   "metadata": {},
   "outputs": [],
   "source": [
    "X_res = X_res.reshape((X_res.shape[0], 28,28 ))"
   ]
  },
  {
   "cell_type": "code",
   "execution_count": 195,
   "id": "7c1986a7",
   "metadata": {},
   "outputs": [],
   "source": [
    "X_test = X_test.reshape((X_test.shape[0],28,28))"
   ]
  },
  {
   "cell_type": "code",
   "execution_count": 287,
   "id": "28cf3297",
   "metadata": {},
   "outputs": [],
   "source": [
    "y_res = to_categorical(y_res)\n",
    "#y_test = to_categorical(y_test)"
   ]
  },
  {
   "cell_type": "code",
   "execution_count": 143,
   "id": "ba260b1c",
   "metadata": {},
   "outputs": [],
   "source": [
    "from tensorflow.keras.optimizers import SGD"
   ]
  },
  {
   "cell_type": "code",
   "execution_count": 159,
   "id": "434dc08e",
   "metadata": {},
   "outputs": [],
   "source": [
    "def define_model():\n",
    "    model = keras.Sequential()\n",
    "    model.add(layers.Conv2D(32, (3, 3), activation='relu', kernel_initializer='he_uniform', input_shape=(28, 28, 1)))\n",
    "    model.add(layers.MaxPooling2D((2, 2)))\n",
    "    model.add(layers.Flatten())\n",
    "    model.add(layers.Dense(100, activation='relu', kernel_initializer='he_uniform'))\n",
    "    model.add(layers.Dense(10, activation='softmax'))\n",
    "     # compile model\n",
    "    opt = SGD(learning_rate=0.01, momentum=0.9)\n",
    "    model.compile(optimizer=opt, loss='categorical_crossentropy', metrics=['accuracy'])\n",
    "    return model\n"
   ]
  },
  {
   "cell_type": "code",
   "execution_count": null,
   "id": "666e655e",
   "metadata": {},
   "outputs": [],
   "source": [
    "##################################\n",
    "#            Medidor             #\n",
    "##################################"
   ]
  },
  {
   "cell_type": "code",
   "execution_count": 288,
   "id": "58be70a5",
   "metadata": {},
   "outputs": [
    {
     "data": {
      "text/plain": [
       "(6000, 28, 28)"
      ]
     },
     "execution_count": 288,
     "metadata": {},
     "output_type": "execute_result"
    }
   ],
   "source": [
    "X_res.shape"
   ]
  },
  {
   "cell_type": "code",
   "execution_count": 289,
   "id": "8c281686",
   "metadata": {},
   "outputs": [
    {
     "data": {
      "text/plain": [
       "(6000, 10)"
      ]
     },
     "execution_count": 289,
     "metadata": {},
     "output_type": "execute_result"
    }
   ],
   "source": [
    "y_res.shape"
   ]
  },
  {
   "cell_type": "code",
   "execution_count": 292,
   "id": "ebc0f28e",
   "metadata": {},
   "outputs": [],
   "source": [
    "model = define_model()"
   ]
  },
  {
   "cell_type": "code",
   "execution_count": 293,
   "id": "68f4c191",
   "metadata": {},
   "outputs": [
    {
     "name": "stdout",
     "output_type": "stream",
     "text": [
      "Epoch 1/15\n",
      "188/188 [==============================] - 3s 13ms/step - loss: 0.7953 - accuracy: 0.7190 - val_loss: 0.5412 - val_accuracy: 0.8042\n",
      "Epoch 2/15\n",
      "188/188 [==============================] - 2s 13ms/step - loss: 0.4867 - accuracy: 0.8310 - val_loss: 0.5115 - val_accuracy: 0.8142\n",
      "Epoch 3/15\n",
      "188/188 [==============================] - 3s 13ms/step - loss: 0.3931 - accuracy: 0.8592 - val_loss: 0.4532 - val_accuracy: 0.8317\n",
      "Epoch 4/15\n",
      "188/188 [==============================] - 3s 14ms/step - loss: 0.3265 - accuracy: 0.8852 - val_loss: 0.4119 - val_accuracy: 0.8558\n",
      "Epoch 5/15\n",
      "188/188 [==============================] - 2s 13ms/step - loss: 0.2858 - accuracy: 0.8962 - val_loss: 0.3832 - val_accuracy: 0.8558\n",
      "Epoch 6/15\n",
      "188/188 [==============================] - 2s 13ms/step - loss: 0.2518 - accuracy: 0.9123 - val_loss: 0.4101 - val_accuracy: 0.8575\n",
      "Epoch 7/15\n",
      "188/188 [==============================] - 2s 13ms/step - loss: 0.2111 - accuracy: 0.9275 - val_loss: 0.3910 - val_accuracy: 0.8683\n",
      "Epoch 8/15\n",
      "188/188 [==============================] - 2s 13ms/step - loss: 0.1870 - accuracy: 0.9343 - val_loss: 0.3754 - val_accuracy: 0.8742\n",
      "Epoch 9/15\n",
      "188/188 [==============================] - 3s 13ms/step - loss: 0.1718 - accuracy: 0.9392 - val_loss: 0.3563 - val_accuracy: 0.8783\n",
      "Epoch 10/15\n",
      "188/188 [==============================] - 2s 13ms/step - loss: 0.1493 - accuracy: 0.9475 - val_loss: 0.3642 - val_accuracy: 0.8867\n",
      "Epoch 11/15\n",
      "188/188 [==============================] - 3s 14ms/step - loss: 0.1196 - accuracy: 0.9605 - val_loss: 0.3850 - val_accuracy: 0.8825\n",
      "Epoch 12/15\n",
      "188/188 [==============================] - 3s 14ms/step - loss: 0.1075 - accuracy: 0.9650 - val_loss: 0.3751 - val_accuracy: 0.8883\n",
      "Epoch 13/15\n",
      "188/188 [==============================] - 3s 15ms/step - loss: 0.0933 - accuracy: 0.9688 - val_loss: 0.3780 - val_accuracy: 0.8933\n",
      "Epoch 14/15\n",
      "188/188 [==============================] - 3s 15ms/step - loss: 0.0690 - accuracy: 0.9802 - val_loss: 0.3884 - val_accuracy: 0.8967\n",
      "Epoch 15/15\n",
      "188/188 [==============================] - 3s 15ms/step - loss: 0.0638 - accuracy: 0.9805 - val_loss: 0.4535 - val_accuracy: 0.8800\n"
     ]
    }
   ],
   "source": [
    "inicio=time.time()\n",
    "train = model.fit(X_res, y_res, epochs=15, batch_size=32,validation_data=(X_testf, y_testf))\n",
    "fin=time.time()"
   ]
  },
  {
   "cell_type": "code",
   "execution_count": 282,
   "id": "79977e68",
   "metadata": {},
   "outputs": [
    {
     "data": {
      "text/plain": [
       "36.916704416275024"
      ]
     },
     "execution_count": 282,
     "metadata": {},
     "output_type": "execute_result"
    }
   ],
   "source": [
    "fin-inicio"
   ]
  },
  {
   "cell_type": "code",
   "execution_count": null,
   "id": "43089453",
   "metadata": {},
   "outputs": [],
   "source": [
    "######################\n",
    "#      Base          #\n",
    "######################"
   ]
  },
  {
   "cell_type": "code",
   "execution_count": 222,
   "id": "8912295d",
   "metadata": {},
   "outputs": [],
   "source": [
    "X_train = X_train.reshape((X_train.shape[0], 28,28 ))\n",
    "y_train = to_categorical(y_train)"
   ]
  },
  {
   "cell_type": "code",
   "execution_count": 273,
   "id": "0b4c5654",
   "metadata": {},
   "outputs": [
    {
     "data": {
      "text/plain": [
       "(4800, 28, 28)"
      ]
     },
     "execution_count": 273,
     "metadata": {},
     "output_type": "execute_result"
    }
   ],
   "source": [
    "X_train.shape"
   ]
  },
  {
   "cell_type": "code",
   "execution_count": 274,
   "id": "64c804fa",
   "metadata": {},
   "outputs": [
    {
     "data": {
      "text/plain": [
       "(4800, 10)"
      ]
     },
     "execution_count": 274,
     "metadata": {},
     "output_type": "execute_result"
    }
   ],
   "source": [
    "y_train.shape"
   ]
  },
  {
   "cell_type": "code",
   "execution_count": 272,
   "id": "6f592a8a",
   "metadata": {},
   "outputs": [],
   "source": [
    "X_train, X_test, y_train, y_test = train_test_split(X_train, y_train, stratify=y_train, test_size = 0.92)"
   ]
  },
  {
   "cell_type": "code",
   "execution_count": 202,
   "id": "bef893df",
   "metadata": {},
   "outputs": [],
   "source": [
    "X, X_testf, y, y_testf = train_test_split(X_train, y_train, stratify=y_train, test_size = 0.2)"
   ]
  },
  {
   "cell_type": "code",
   "execution_count": 275,
   "id": "4e44f5e4",
   "metadata": {},
   "outputs": [],
   "source": [
    "model = define_model()"
   ]
  },
  {
   "cell_type": "code",
   "execution_count": 276,
   "id": "cf4144fa",
   "metadata": {},
   "outputs": [
    {
     "name": "stdout",
     "output_type": "stream",
     "text": [
      "Epoch 1/15\n",
      "150/150 [==============================] - 3s 14ms/step - loss: 0.7903 - accuracy: 0.7096 - val_loss: 0.5547 - val_accuracy: 0.7975\n",
      "Epoch 2/15\n",
      "150/150 [==============================] - 2s 13ms/step - loss: 0.5052 - accuracy: 0.8056 - val_loss: 0.4774 - val_accuracy: 0.8383\n",
      "Epoch 3/15\n",
      "150/150 [==============================] - 2s 13ms/step - loss: 0.4304 - accuracy: 0.8429 - val_loss: 0.4538 - val_accuracy: 0.8367\n",
      "Epoch 4/15\n",
      "150/150 [==============================] - 2s 13ms/step - loss: 0.3761 - accuracy: 0.8629 - val_loss: 0.4130 - val_accuracy: 0.8617\n",
      "Epoch 5/15\n",
      "150/150 [==============================] - 2s 13ms/step - loss: 0.3130 - accuracy: 0.8848 - val_loss: 0.3981 - val_accuracy: 0.8625\n",
      "Epoch 6/15\n",
      "150/150 [==============================] - 2s 13ms/step - loss: 0.2853 - accuracy: 0.8990 - val_loss: 0.3880 - val_accuracy: 0.8625\n",
      "Epoch 7/15\n",
      "150/150 [==============================] - 2s 15ms/step - loss: 0.2462 - accuracy: 0.9087 - val_loss: 0.3428 - val_accuracy: 0.8842\n",
      "Epoch 8/15\n",
      "150/150 [==============================] - 2s 16ms/step - loss: 0.2256 - accuracy: 0.9187 - val_loss: 0.3677 - val_accuracy: 0.8792\n",
      "Epoch 9/15\n",
      "150/150 [==============================] - 2s 14ms/step - loss: 0.1967 - accuracy: 0.9333 - val_loss: 0.3742 - val_accuracy: 0.8775\n",
      "Epoch 10/15\n",
      "150/150 [==============================] - 2s 14ms/step - loss: 0.1779 - accuracy: 0.9340 - val_loss: 0.4177 - val_accuracy: 0.8642\n",
      "Epoch 11/15\n",
      "150/150 [==============================] - 2s 14ms/step - loss: 0.1625 - accuracy: 0.9450 - val_loss: 0.3886 - val_accuracy: 0.8642\n",
      "Epoch 12/15\n",
      "150/150 [==============================] - 2s 14ms/step - loss: 0.1346 - accuracy: 0.9529 - val_loss: 0.3593 - val_accuracy: 0.8942\n",
      "Epoch 13/15\n",
      "150/150 [==============================] - 2s 14ms/step - loss: 0.1326 - accuracy: 0.9517 - val_loss: 0.3957 - val_accuracy: 0.8717\n",
      "Epoch 14/15\n",
      "150/150 [==============================] - 2s 14ms/step - loss: 0.1076 - accuracy: 0.9640 - val_loss: 0.3796 - val_accuracy: 0.8783\n",
      "Epoch 15/15\n",
      "150/150 [==============================] - 2s 14ms/step - loss: 0.0946 - accuracy: 0.9710 - val_loss: 0.4228 - val_accuracy: 0.8808\n"
     ]
    }
   ],
   "source": [
    "inicio= time.time()\n",
    "train = model.fit(X_train, y_train, epochs=15, batch_size=32,validation_data=(X_testf, y_testf))\n",
    "fin = time.time()"
   ]
  },
  {
   "cell_type": "code",
   "execution_count": 277,
   "id": "18aa1d67",
   "metadata": {},
   "outputs": [
    {
     "data": {
      "text/plain": [
       "31.705026626586914"
      ]
     },
     "execution_count": 277,
     "metadata": {},
     "output_type": "execute_result"
    }
   ],
   "source": [
    "fin-inicio"
   ]
  },
  {
   "cell_type": "code",
   "execution_count": 250,
   "id": "da7453fd",
   "metadata": {},
   "outputs": [],
   "source": [
    "####################\n",
    "#     COMPLETO     #\n",
    "####################"
   ]
  },
  {
   "cell_type": "code",
   "execution_count": 262,
   "id": "f3ae6ccc",
   "metadata": {},
   "outputs": [],
   "source": [
    "X_train = X_train.reshape((X_train.shape[0], 28,28 ))\n",
    "y_train = to_categorical(y_train)"
   ]
  },
  {
   "cell_type": "code",
   "execution_count": 263,
   "id": "69b887c1",
   "metadata": {},
   "outputs": [
    {
     "data": {
      "text/plain": [
       "(60000, 28, 28)"
      ]
     },
     "execution_count": 263,
     "metadata": {},
     "output_type": "execute_result"
    }
   ],
   "source": [
    "X_train.shape"
   ]
  },
  {
   "cell_type": "code",
   "execution_count": 264,
   "id": "1aa77e50",
   "metadata": {},
   "outputs": [
    {
     "data": {
      "text/plain": [
       "(60000, 10)"
      ]
     },
     "execution_count": 264,
     "metadata": {},
     "output_type": "execute_result"
    }
   ],
   "source": [
    "y_train.shape"
   ]
  },
  {
   "cell_type": "code",
   "execution_count": 265,
   "id": "d43491a6",
   "metadata": {},
   "outputs": [],
   "source": [
    "X_train_com, X_test_com, y_train_com, y_test_com = train_test_split(X_train, y_train, stratify=y_train, test_size = 0.20)"
   ]
  },
  {
   "cell_type": "code",
   "execution_count": 267,
   "id": "c1f39a71",
   "metadata": {},
   "outputs": [],
   "source": [
    "import time"
   ]
  },
  {
   "cell_type": "code",
   "execution_count": 266,
   "id": "a4a49494",
   "metadata": {},
   "outputs": [],
   "source": [
    "model = define_model()"
   ]
  },
  {
   "cell_type": "code",
   "execution_count": 268,
   "id": "27c3106f",
   "metadata": {},
   "outputs": [
    {
     "name": "stdout",
     "output_type": "stream",
     "text": [
      "Epoch 1/15\n",
      "1875/1875 [==============================] - 25s 13ms/step - loss: 0.4181 - accuracy: 0.8505 - val_loss: 0.2746 - val_accuracy: 0.9092\n",
      "Epoch 2/15\n",
      "1875/1875 [==============================] - 27s 14ms/step - loss: 0.2816 - accuracy: 0.8981 - val_loss: 0.2280 - val_accuracy: 0.9217\n",
      "Epoch 3/15\n",
      "1875/1875 [==============================] - 26s 14ms/step - loss: 0.2411 - accuracy: 0.9128 - val_loss: 0.1924 - val_accuracy: 0.9300\n",
      "Epoch 4/15\n",
      "1875/1875 [==============================] - 26s 14ms/step - loss: 0.2121 - accuracy: 0.9222 - val_loss: 0.1823 - val_accuracy: 0.9375\n",
      "Epoch 5/15\n",
      "1875/1875 [==============================] - 26s 14ms/step - loss: 0.1903 - accuracy: 0.9293 - val_loss: 0.1633 - val_accuracy: 0.9392\n",
      "Epoch 6/15\n",
      "1875/1875 [==============================] - 26s 14ms/step - loss: 0.1707 - accuracy: 0.9373 - val_loss: 0.1464 - val_accuracy: 0.9408\n",
      "Epoch 7/15\n",
      "1875/1875 [==============================] - 25s 13ms/step - loss: 0.1550 - accuracy: 0.9429 - val_loss: 0.1174 - val_accuracy: 0.9617\n",
      "Epoch 8/15\n",
      "1875/1875 [==============================] - 27s 14ms/step - loss: 0.1369 - accuracy: 0.9495 - val_loss: 0.1292 - val_accuracy: 0.9517\n",
      "Epoch 9/15\n",
      "1875/1875 [==============================] - 26s 14ms/step - loss: 0.1239 - accuracy: 0.9540 - val_loss: 0.1062 - val_accuracy: 0.9608\n",
      "Epoch 10/15\n",
      "1875/1875 [==============================] - 26s 14ms/step - loss: 0.1104 - accuracy: 0.9597 - val_loss: 0.0705 - val_accuracy: 0.9767\n",
      "Epoch 11/15\n",
      "1875/1875 [==============================] - 26s 14ms/step - loss: 0.1004 - accuracy: 0.9629 - val_loss: 0.0927 - val_accuracy: 0.9633\n",
      "Epoch 12/15\n",
      "1875/1875 [==============================] - 26s 14ms/step - loss: 0.0914 - accuracy: 0.9663 - val_loss: 0.0754 - val_accuracy: 0.9758\n",
      "Epoch 13/15\n",
      "1875/1875 [==============================] - 25s 13ms/step - loss: 0.0808 - accuracy: 0.9710 - val_loss: 0.0492 - val_accuracy: 0.9850\n",
      "Epoch 14/15\n",
      "1875/1875 [==============================] - 26s 14ms/step - loss: 0.0730 - accuracy: 0.9735 - val_loss: 0.0463 - val_accuracy: 0.9842\n",
      "Epoch 15/15\n",
      "1875/1875 [==============================] - 26s 14ms/step - loss: 0.0646 - accuracy: 0.9765 - val_loss: 0.0477 - val_accuracy: 0.9833\n"
     ]
    }
   ],
   "source": [
    "inicio=time.time()\n",
    "train = model.fit(X_train, y_train, epochs=15, batch_size=32,validation_data=(X_test, y_test))\n",
    "fin=time.time()"
   ]
  },
  {
   "cell_type": "code",
   "execution_count": 269,
   "id": "a4913721",
   "metadata": {},
   "outputs": [
    {
     "data": {
      "text/plain": [
       "388.7532956600189"
      ]
     },
     "execution_count": 269,
     "metadata": {},
     "output_type": "execute_result"
    }
   ],
   "source": [
    "fin-inicio"
   ]
  },
  {
   "cell_type": "code",
   "execution_count": 294,
   "id": "b5f8e429",
   "metadata": {},
   "outputs": [],
   "source": [
    "######################################################\n",
    "#                         CNN                        #\n",
    "######################################################\n",
    "#  Conjunto   #    prec    #   tiempo    #  Muestras #\n",
    "######################################################\n",
    "# Indicador   #    0.88    #   36.9167   # 6000 (5000 + 1000)   #\n",
    "# Estratifi   #    0.88    #   31.705    #    5000   #\n",
    "# Completo    #    0.98    #   388.753   #   60000   #\n",
    "######################################################"
   ]
  },
  {
   "cell_type": "code",
   "execution_count": null,
   "id": "7b43ad8c",
   "metadata": {},
   "outputs": [],
   "source": []
  }
 ],
 "metadata": {
  "kernelspec": {
   "display_name": "Python 3 (ipykernel)",
   "language": "python",
   "name": "python3"
  },
  "language_info": {
   "codemirror_mode": {
    "name": "ipython",
    "version": 3
   },
   "file_extension": ".py",
   "mimetype": "text/x-python",
   "name": "python",
   "nbconvert_exporter": "python",
   "pygments_lexer": "ipython3",
   "version": "3.10.9"
  }
 },
 "nbformat": 4,
 "nbformat_minor": 5
}
